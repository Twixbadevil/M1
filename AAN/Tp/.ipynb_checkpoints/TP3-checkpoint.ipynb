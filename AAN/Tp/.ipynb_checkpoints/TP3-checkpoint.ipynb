{
 "cells": [
  {
   "cell_type": "markdown",
   "metadata": {},
   "source": [
    "# TP PERCEPTRON"
   ]
  },
  {
   "cell_type": "code",
   "execution_count": 86,
   "metadata": {
    "collapsed": false
   },
   "outputs": [],
   "source": [
    "import numpy as np\n",
    "import matplotlib.pyplot as plt\n",
    "import math \n",
    "from scipy import pi\n",
    "#from random import randint\n",
    "import requests\n",
    "import random"
   ]
  },
  {
   "cell_type": "markdown",
   "metadata": {},
   "source": [
    "## chargement donnees ici la classe -1 represente les democrates et 1 les repiblicain"
   ]
  },
  {
   "cell_type": "code",
   "execution_count": 87,
   "metadata": {
    "collapsed": false,
    "scrolled": true
   },
   "outputs": [
    {
     "name": "stdout",
     "output_type": "stream",
     "text": [
      "[[ 1 -1  0 ...,  1 -1 -1]\n",
      " [-1  1 -1 ..., -1 -1  1]\n",
      " [ 1 -1  1 ...,  1 -1 -1]\n",
      " ..., \n",
      " [-1  1 -1 ...,  1  1  0]\n",
      " [ 1 -1  1 ...,  1  0 -1]\n",
      " [-1  1 -1 ..., -1  1  0]]\n"
     ]
    }
   ],
   "source": [
    "\n",
    "donnee = requests.get('https://archive.ics.uci.edu/ml/machine-learning-databases/voting-records/house-votes-84.data')\n",
    "donnee = donnee.text.replace('\\n',',')\n",
    "\n",
    "donnee = donnee.replace('democrat','-1')\n",
    "donnee = donnee.replace('republican','1')\n",
    "donnee = donnee.replace('y','1')\n",
    "donnee = donnee.replace('n','-1')\n",
    "donnee = donnee.replace('?','0')\n",
    "donnee = donnee.split(',')\n",
    "donnee.pop()\n",
    "donnee = np.asarray(donnee)\n",
    "donnee = [int(x) for x in donnee]\n",
    "donnee = np.reshape(donnee,(-1,17))\n",
    "np.random.seed(987654321)\n",
    "np.random.shuffle(donnee)\n",
    "print(donnee)"
   ]
  },
  {
   "cell_type": "markdown",
   "metadata": {},
   "source": [
    "### Melange et division des données\n"
   ]
  },
  {
   "cell_type": "code",
   "execution_count": 88,
   "metadata": {
    "collapsed": false,
    "scrolled": true
   },
   "outputs": [],
   "source": [
    "\n",
    "testData=donnee[-101:-1,:]\n",
    "trainData=donnee[0:-101,:]"
   ]
  },
  {
   "cell_type": "markdown",
   "metadata": {},
   "source": [
    "   ### Inversion des valeurs pour la classe -1"
   ]
  },
  {
   "cell_type": "markdown",
   "metadata": {
    "collapsed": true
   },
   "source": [
    "#### def inversionClassNegative(data):\n",
    "    newData = []\n",
    "    tmpData = np.array([0,0,0,0,0,0,0,0,0,0,0,0,0,0,0,0,0])\n",
    "    for i in range(len(data)):    \n",
    "        \n",
    "        if data[i,0]==-1:\n",
    "            \n",
    "            tmpData[0] = data[i,0]          \n",
    "            for x in range(1,len(data[i,:])):\n",
    "                tmpData[x] = ((data[i,x])*(-1))\n",
    "            print(\"==============================newData\")\n",
    "            print(newData)\n",
    "            newData.append(tmpData)\n",
    "        else:\n",
    "            newData.append(data[i,:])\n",
    "    \n",
    "    newData = np.asarray(newData)  \n",
    "    newData = np.reshape(newData,(-1,17))\n",
    "    \n",
    "    print(\"==============================newData\")\n",
    "    print(newData)\n",
    "    \n",
    "    return newData\n",
    "   "
   ]
  },
  {
   "cell_type": "code",
   "execution_count": 89,
   "metadata": {
    "collapsed": true
   },
   "outputs": [],
   "source": [
    "def inv2(data):\n",
    "    newData=[]\n",
    "    tmpData = np.array(data)\n",
    "    for i in range(len(tmpData)):\n",
    "        if tmpData[i,0]==-1:\n",
    "            tmpData[i,0]=1\n",
    "            newData.append(tmpData[i,:]*-1)\n",
    "                            \n",
    "        else:\n",
    "            newData.append(tmpData[i,:])\n",
    "    newData = np.asarray(newData)\n",
    "    newData = np.reshape(newData,(-1,17))\n",
    "    \n",
    "    return newData"
   ]
  },
  {
   "cell_type": "markdown",
   "metadata": {},
   "source": [
    "### Tri des classe -1 et 1"
   ]
  },
  {
   "cell_type": "code",
   "execution_count": 90,
   "metadata": {
    "collapsed": false
   },
   "outputs": [],
   "source": [
    "def divisionClass(data):\n",
    "    classPositive=[]\n",
    "    classNegative=[]\n",
    "    for i in range(len(data)):\n",
    "        if(data[i,0]==-1):\n",
    "            classNegative.append(data[i,:])\n",
    "        else:\n",
    "            classPositive.append(data[i,:])\n",
    "    return (classPositive,classNegative)"
   ]
  },
  {
   "cell_type": "markdown",
   "metadata": {},
   "source": [
    "### classifie un vecteur de donnees avec un vecteur de poids"
   ]
  },
  {
   "cell_type": "code",
   "execution_count": 91,
   "metadata": {
    "collapsed": true
   },
   "outputs": [],
   "source": [
    "def classify(data, vectorWeight):\n",
    "    #res=[]\n",
    "    #for i in range(len(data)):\n",
    "    #    res.append(data[i]*vectorWeight[i])\n",
    "    #return np.sum(np.asarray(res))\n",
    "    return ((data*vectorWeight).sum())"
   ]
  },
  {
   "cell_type": "code",
   "execution_count": 92,
   "metadata": {
    "collapsed": false
   },
   "outputs": [],
   "source": [
    "def changeWeight(data, vectorWeight):\n",
    "    newWeight=[]\n",
    "    for i in range(len(data)):\n",
    "        newWeight.append(data[i]+vectorWeight[i])\n",
    "    return newWeight"
   ]
  },
  {
   "cell_type": "code",
   "execution_count": 93,
   "metadata": {
    "collapsed": true
   },
   "outputs": [],
   "source": [
    "def trainIteration(nbIterMax,weight,data):\n",
    "    tabRes=[]\n",
    "    tabErrorRate=[]\n",
    "    for i in range(nbIterMax):\n",
    "        tabRes=[]\n",
    "        for x in range(len(data)):\n",
    "            res=classify(data[x,:],weight)       \n",
    "            tabRes.append(res)\n",
    "            if res<0:\n",
    "                weight=changeWeight(data[x,:],weight)\n",
    "        errorRate=calculateErrorRate(tabRes)\n",
    "        tabErrorRate.append(errorRate)\n",
    "        \n",
    "    return tabErrorRate,weight\n",
    "                "
   ]
  },
  {
   "cell_type": "code",
   "execution_count": 94,
   "metadata": {
    "collapsed": true
   },
   "outputs": [],
   "source": [
    "def calculateErrorRate(tabResult):\n",
    "    cptError=0\n",
    "    for i in range(len(tabResult)):\n",
    "        if(tabResult[i]<0):\n",
    "            cptError=cptError+1\n",
    "    return cptError/len(tabResult)*100"
   ]
  },
  {
   "cell_type": "code",
   "execution_count": 104,
   "metadata": {
    "collapsed": true
   },
   "outputs": [],
   "source": [
    "def trainErrorRate(maxErrorRate, weight,data):\n",
    "    tabRes=[]\n",
    "    tabErrorRate=[]\n",
    "    errorRate=100\n",
    "    i =0\n",
    "    while errorRate>maxErrorRate:\n",
    "        tabRes=[]\n",
    "        for x in range(len(data)):\n",
    "            res=classify(data[x,:],weight)\n",
    "            tabRes.append(res)\n",
    "            if res<0:\n",
    "                weight=changeWeight(data[x,:],weight)\n",
    "        errorRate=calculateErrorRate(tabRes)\n",
    "        tabErrorRate.append(errorRate)\n",
    "        i = i+1\n",
    "    return tabErrorRate,weight"
   ]
  },
  {
   "cell_type": "code",
   "execution_count": 96,
   "metadata": {
    "collapsed": true
   },
   "outputs": [],
   "source": [
    "def printErrorRate(tabError):\n",
    "    plt.plot(tabError)\n",
    "    plt.show()"
   ]
  },
  {
   "cell_type": "code",
   "execution_count": 97,
   "metadata": {
    "collapsed": true
   },
   "outputs": [],
   "source": [
    "def triPosNeg(data):\n",
    "    \n",
    "    \n",
    "    \n",
    "    newData = inv2(data)\n",
    "\n",
    "    \n",
    "    \n",
    "    classPositive,classNegative = divisionClass(newData)\n",
    "    \n",
    "    len1 = len(classPositive)\n",
    "    len2 = len(classNegative)\n",
    "    dataBis = []\n",
    "    if (len1 < len2):\n",
    "        for i in range(len1):\n",
    "            dataBis.append(classPositive[i])\n",
    "            dataBis.append(classNegative[i])\n",
    "        for j in range(len1,len2):\n",
    "            dataBis.append(classNegative[j])\n",
    "    else:\n",
    "        for i in range(len2):\n",
    "            dataBis.append(classPositive[i])\n",
    "            dataBis.append(classNegative[i])\n",
    "        for j in range(len2,len1):\n",
    "            dataBis.append(classPositive[j])\n",
    "    \n",
    "    dataBis = np.reshape(dataBis,(-1,17))\n",
    "    \n",
    "    return(dataBis) "
   ]
  },
  {
   "cell_type": "code",
   "execution_count": 98,
   "metadata": {
    "collapsed": true
   },
   "outputs": [],
   "source": [
    "def classTest(data,weight):\n",
    "    tabRes = []\n",
    "    for x in range(len(data)):\n",
    "        res=classify(data[x,:],weight)\n",
    "        tabRes.append(res)\n",
    "    \n",
    "    errorRate=calculateErrorRate(tabRes)\n",
    "   \n",
    "    \n",
    "    return errorRate"
   ]
  },
  {
   "cell_type": "markdown",
   "metadata": {},
   "source": [
    "### Calcul du pourcentage d'erreur sur corpus apprentissage\n"
   ]
  },
  {
   "cell_type": "code",
   "execution_count": 107,
   "metadata": {
    "collapsed": false,
    "scrolled": true
   },
   "outputs": [
    {
     "data": {
      "image/png": "[encoded data removed]",
      "text/plain": [
       "<matplotlib.figure.Figure at 0x7f128051f128>"
      ]
     },
     "metadata": {},
     "output_type": "display_data"
    },
    {
     "name": "stdout",
     "output_type": "stream",
     "text": [
      "[-9, 1, -11, -9, 22, 6, -3, 6, 7, -1, 6, -8, 4, 0, -4, -4, 1]\n"
     ]
    },
    {
     "data": {
      "image/png": "[encoded data removed]",
      "text/plain": [
       "<matplotlib.figure.Figure at 0x7f128051f0b8>"
      ]
     },
     "metadata": {},
     "output_type": "display_data"
    },
    {
     "name": "stdout",
     "output_type": "stream",
     "text": [
      "[-10, 0, -18, -11, 29, 9, -4, 7, 6, 0, 3, -9, 5, -2, -2, -5, 0]\n"
     ]
    }
   ],
   "source": [
    "\n",
    "\n",
    "dataBis = triPosNeg(trainData)\n",
    "\n",
    "\n",
    "weightInit = [1,0,1,0,1,1,1,0,0,0,0,1,0,1,1,1,1]\n",
    "\n",
    "error1,weight1 = trainIteration(40,weightInit,dataBis)\n",
    "printErrorRate(error1)\n",
    "print(weight1)\n",
    "\n",
    "error2,weight2 = trainErrorRate(2.5,weightInit,dataBis)\n",
    "printErrorRate(error2)\n",
    "print(weight2)\n",
    "\n"
   ]
  },
  {
   "cell_type": "markdown",
   "metadata": {},
   "source": [
    "### Corpus de test"
   ]
  },
  {
   "cell_type": "code",
   "execution_count": 108,
   "metadata": {
    "collapsed": false
   },
   "outputs": [
    {
     "name": "stdout",
     "output_type": "stream",
     "text": [
      "4.0\n",
      "6.0\n"
     ]
    }
   ],
   "source": [
    "data = inv2(testData)\n",
    "\n",
    "error1 = classTest(data,weight1)\n",
    "print(error1)\n",
    "error2 = classTest(data,weight2)\n",
    "print(error2)\n"
   ]
  },
  {
   "cell_type": "code",
   "execution_count": null,
   "metadata": {
    "collapsed": true
   },
   "outputs": [],
   "source": []
  }
 ],
 "metadata": {
  "kernelspec": {
   "display_name": "Python 3",
   "language": "python",
   "name": "python3"
  },
  "language_info": {
   "codemirror_mode": {
    "name": "ipython",
    "version": 3
   },
   "file_extension": ".py",
   "mimetype": "text/x-python",
   "name": "python",
   "nbconvert_exporter": "python",
   "pygments_lexer": "ipython3",
   "version": "3.5.2"
  }
 },
 "nbformat": 4,
 "nbformat_minor": 1
}
